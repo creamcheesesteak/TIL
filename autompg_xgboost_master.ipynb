{
  "nbformat": 4,
  "nbformat_minor": 0,
  "metadata": {
    "colab": {
      "name": "autompg_xgboost.ipynb",
      "provenance": [],
      "include_colab_link": true
    },
    "kernelspec": {
      "name": "python3",
      "display_name": "Python 3"
    },
    "language_info": {
      "name": "python"
    }
  },
  "cells": [
    {
      "cell_type": "markdown",
      "metadata": {
        "id": "view-in-github",
        "colab_type": "text"
      },
      "source": [
        "<a href=\"https://colab.research.google.com/github/creamcheesesteak/TIL/blob/master/autompg_xgboost_master.ipynb\" target=\"_parent\"><img src=\"https://colab.research.google.com/assets/colab-badge.svg\" alt=\"Open In Colab\"/></a>"
      ]
    },
    {
      "cell_type": "markdown",
      "metadata": {
        "id": "G5X9MZRrMFeA"
      },
      "source": [
        "## 데이터 로딩"
      ]
    },
    {
      "cell_type": "code",
      "metadata": {
        "id": "NpSFfXXFtwIy",
        "colab": {
          "base_uri": "https://localhost:8080/"
        },
        "outputId": "cf8d7e07-17c9-4624-d744-e06de898d332"
      },
      "source": [
        "import pandas as pd\n",
        "df = pd.read_csv('./auto-mpg.csv', header=None)\n",
        "df.columns = ['mpg','cylinders','displacement','horsepower','weight',\n",
        "              'acceleration','model year','origin','name'] \n",
        "df.info()"
      ],
      "execution_count": 104,
      "outputs": [
        {
          "output_type": "stream",
          "text": [
            "<class 'pandas.core.frame.DataFrame'>\n",
            "RangeIndex: 398 entries, 0 to 397\n",
            "Data columns (total 9 columns):\n",
            " #   Column        Non-Null Count  Dtype  \n",
            "---  ------        --------------  -----  \n",
            " 0   mpg           398 non-null    float64\n",
            " 1   cylinders     398 non-null    int64  \n",
            " 2   displacement  398 non-null    float64\n",
            " 3   horsepower    398 non-null    object \n",
            " 4   weight        398 non-null    float64\n",
            " 5   acceleration  398 non-null    float64\n",
            " 6   model year    398 non-null    int64  \n",
            " 7   origin        398 non-null    int64  \n",
            " 8   name          398 non-null    object \n",
            "dtypes: float64(4), int64(3), object(2)\n",
            "memory usage: 28.1+ KB\n"
          ],
          "name": "stdout"
        }
      ]
    },
    {
      "cell_type": "code",
      "metadata": {
        "colab": {
          "base_uri": "https://localhost:8080/",
          "height": 172
        },
        "id": "SKbdHh4Xuepa",
        "outputId": "d0205819-23ad-4ff4-8210-e76eb1ab10d5"
      },
      "source": [
        "df[['horsepower','name']].describe(include='all')"
      ],
      "execution_count": 105,
      "outputs": [
        {
          "output_type": "execute_result",
          "data": {
            "text/html": [
              "<div>\n",
              "<style scoped>\n",
              "    .dataframe tbody tr th:only-of-type {\n",
              "        vertical-align: middle;\n",
              "    }\n",
              "\n",
              "    .dataframe tbody tr th {\n",
              "        vertical-align: top;\n",
              "    }\n",
              "\n",
              "    .dataframe thead th {\n",
              "        text-align: right;\n",
              "    }\n",
              "</style>\n",
              "<table border=\"1\" class=\"dataframe\">\n",
              "  <thead>\n",
              "    <tr style=\"text-align: right;\">\n",
              "      <th></th>\n",
              "      <th>horsepower</th>\n",
              "      <th>name</th>\n",
              "    </tr>\n",
              "  </thead>\n",
              "  <tbody>\n",
              "    <tr>\n",
              "      <th>count</th>\n",
              "      <td>398</td>\n",
              "      <td>398</td>\n",
              "    </tr>\n",
              "    <tr>\n",
              "      <th>unique</th>\n",
              "      <td>94</td>\n",
              "      <td>305</td>\n",
              "    </tr>\n",
              "    <tr>\n",
              "      <th>top</th>\n",
              "      <td>150.0</td>\n",
              "      <td>ford pinto</td>\n",
              "    </tr>\n",
              "    <tr>\n",
              "      <th>freq</th>\n",
              "      <td>22</td>\n",
              "      <td>6</td>\n",
              "    </tr>\n",
              "  </tbody>\n",
              "</table>\n",
              "</div>"
            ],
            "text/plain": [
              "       horsepower        name\n",
              "count         398         398\n",
              "unique         94         305\n",
              "top         150.0  ford pinto\n",
              "freq           22           6"
            ]
          },
          "metadata": {
            "tags": []
          },
          "execution_count": 105
        }
      ]
    },
    {
      "cell_type": "markdown",
      "metadata": {
        "id": "4B0YQvRQMjZm"
      },
      "source": [
        "## replace()"
      ]
    },
    {
      "cell_type": "code",
      "metadata": {
        "colab": {
          "base_uri": "https://localhost:8080/"
        },
        "id": "iK6E24d2vKZS",
        "outputId": "4cd33ea4-e395-4871-8310-1534ac66eb35"
      },
      "source": [
        "df['horsepower'].value_counts()"
      ],
      "execution_count": 106,
      "outputs": [
        {
          "output_type": "execute_result",
          "data": {
            "text/plain": [
              "150.0    22\n",
              "90.00    20\n",
              "88.00    19\n",
              "110.0    18\n",
              "100.0    17\n",
              "         ..\n",
              "158.0     1\n",
              "77.00     1\n",
              "93.00     1\n",
              "133.0     1\n",
              "230.0     1\n",
              "Name: horsepower, Length: 94, dtype: int64"
            ]
          },
          "metadata": {
            "tags": []
          },
          "execution_count": 106
        }
      ]
    },
    {
      "cell_type": "code",
      "metadata": {
        "colab": {
          "base_uri": "https://localhost:8080/"
        },
        "id": "QHDSskZRxNvf",
        "outputId": "338e3b97-7d73-4791-e6e2-bba7f27565e2"
      },
      "source": [
        "df['horsepower'].unique()"
      ],
      "execution_count": 107,
      "outputs": [
        {
          "output_type": "execute_result",
          "data": {
            "text/plain": [
              "array(['130.0', '165.0', '150.0', '140.0', '198.0', '220.0', '215.0',\n",
              "       '225.0', '190.0', '170.0', '160.0', '95.00', '97.00', '85.00',\n",
              "       '88.00', '46.00', '87.00', '90.00', '113.0', '200.0', '210.0',\n",
              "       '193.0', '?', '100.0', '105.0', '175.0', '153.0', '180.0', '110.0',\n",
              "       '72.00', '86.00', '70.00', '76.00', '65.00', '69.00', '60.00',\n",
              "       '80.00', '54.00', '208.0', '155.0', '112.0', '92.00', '145.0',\n",
              "       '137.0', '158.0', '167.0', '94.00', '107.0', '230.0', '49.00',\n",
              "       '75.00', '91.00', '122.0', '67.00', '83.00', '78.00', '52.00',\n",
              "       '61.00', '93.00', '148.0', '129.0', '96.00', '71.00', '98.00',\n",
              "       '115.0', '53.00', '81.00', '79.00', '120.0', '152.0', '102.0',\n",
              "       '108.0', '68.00', '58.00', '149.0', '89.00', '63.00', '48.00',\n",
              "       '66.00', '139.0', '103.0', '125.0', '133.0', '138.0', '135.0',\n",
              "       '142.0', '77.00', '62.00', '132.0', '84.00', '64.00', '74.00',\n",
              "       '116.0', '82.00'], dtype=object)"
            ]
          },
          "metadata": {
            "tags": []
          },
          "execution_count": 107
        }
      ]
    },
    {
      "cell_type": "code",
      "metadata": {
        "id": "tKczWxAcyMTQ",
        "colab": {
          "base_uri": "https://localhost:8080/"
        },
        "outputId": "7e126a4e-3391-4d76-b058-e65119f9d5fa"
      },
      "source": [
        "df_horsepower = df['horsepower'].replace(to_replace='?', value=None, inplace=False)\n",
        "df_horsepower.unique()"
      ],
      "execution_count": 108,
      "outputs": [
        {
          "output_type": "execute_result",
          "data": {
            "text/plain": [
              "array(['130.0', '165.0', '150.0', '140.0', '198.0', '220.0', '215.0',\n",
              "       '225.0', '190.0', '170.0', '160.0', '95.00', '97.00', '85.00',\n",
              "       '88.00', '46.00', '87.00', '90.00', '113.0', '200.0', '210.0',\n",
              "       '193.0', '100.0', '105.0', '175.0', '153.0', '180.0', '110.0',\n",
              "       '72.00', '86.00', '70.00', '76.00', '65.00', '69.00', '60.00',\n",
              "       '80.00', '54.00', '208.0', '155.0', '112.0', '92.00', '145.0',\n",
              "       '137.0', '158.0', '167.0', '94.00', '107.0', '230.0', '49.00',\n",
              "       '75.00', '91.00', '122.0', '67.00', '83.00', '78.00', '52.00',\n",
              "       '61.00', '93.00', '148.0', '129.0', '96.00', '71.00', '98.00',\n",
              "       '115.0', '53.00', '81.00', '79.00', '120.0', '152.0', '102.0',\n",
              "       '108.0', '68.00', '58.00', '149.0', '89.00', '63.00', '48.00',\n",
              "       '66.00', '139.0', '103.0', '125.0', '133.0', '138.0', '135.0',\n",
              "       '142.0', '77.00', '62.00', '132.0', '84.00', '64.00', '74.00',\n",
              "       '116.0', '82.00'], dtype=object)"
            ]
          },
          "metadata": {
            "tags": []
          },
          "execution_count": 108
        }
      ]
    },
    {
      "cell_type": "code",
      "metadata": {
        "colab": {
          "base_uri": "https://localhost:8080/"
        },
        "id": "JXMKxsUKym1w",
        "outputId": "ddf2a674-4218-4c2e-a5d9-6079120cc5ad"
      },
      "source": [
        "df_horsepower = df_horsepower.astype('float')\n",
        "df_horsepower.mean()"
      ],
      "execution_count": 109,
      "outputs": [
        {
          "output_type": "execute_result",
          "data": {
            "text/plain": [
              "104.178391959799"
            ]
          },
          "metadata": {
            "tags": []
          },
          "execution_count": 109
        }
      ]
    },
    {
      "cell_type": "code",
      "metadata": {
        "colab": {
          "base_uri": "https://localhost:8080/"
        },
        "id": "aJ1Iqr5T032g",
        "outputId": "5212cf38-0ddf-4cf4-b957-b65f813c2c1f"
      },
      "source": [
        "df['horsepower'] = df_horsepower.fillna(104)\n",
        "df.info()"
      ],
      "execution_count": 110,
      "outputs": [
        {
          "output_type": "stream",
          "text": [
            "<class 'pandas.core.frame.DataFrame'>\n",
            "RangeIndex: 398 entries, 0 to 397\n",
            "Data columns (total 9 columns):\n",
            " #   Column        Non-Null Count  Dtype  \n",
            "---  ------        --------------  -----  \n",
            " 0   mpg           398 non-null    float64\n",
            " 1   cylinders     398 non-null    int64  \n",
            " 2   displacement  398 non-null    float64\n",
            " 3   horsepower    398 non-null    float64\n",
            " 4   weight        398 non-null    float64\n",
            " 5   acceleration  398 non-null    float64\n",
            " 6   model year    398 non-null    int64  \n",
            " 7   origin        398 non-null    int64  \n",
            " 8   name          398 non-null    object \n",
            "dtypes: float64(5), int64(3), object(1)\n",
            "memory usage: 28.1+ KB\n"
          ],
          "name": "stdout"
        }
      ]
    },
    {
      "cell_type": "code",
      "metadata": {
        "id": "Z9QVMX561iOv",
        "colab": {
          "base_uri": "https://localhost:8080/"
        },
        "outputId": "9712c447-a9c3-4814-b86b-9f99c207231f"
      },
      "source": [
        "df['name'].unique()"
      ],
      "execution_count": 111,
      "outputs": [
        {
          "output_type": "execute_result",
          "data": {
            "text/plain": [
              "array(['chevrolet chevelle malibu', 'buick skylark 320',\n",
              "       'plymouth satellite', 'amc rebel sst', 'ford torino',\n",
              "       'ford galaxie 500', 'chevrolet impala', 'plymouth fury iii',\n",
              "       'pontiac catalina', 'amc ambassador dpl', 'dodge challenger se',\n",
              "       \"plymouth 'cuda 340\", 'chevrolet monte carlo',\n",
              "       'buick estate wagon (sw)', 'toyota corona mark ii',\n",
              "       'plymouth duster', 'amc hornet', 'ford maverick', 'datsun pl510',\n",
              "       'volkswagen 1131 deluxe sedan', 'peugeot 504', 'audi 100 ls',\n",
              "       'saab 99e', 'bmw 2002', 'amc gremlin', 'ford f250', 'chevy c20',\n",
              "       'dodge d200', 'hi 1200d', 'chevrolet vega 2300', 'toyota corona',\n",
              "       'ford pinto', 'plymouth satellite custom', 'ford torino 500',\n",
              "       'amc matador', 'pontiac catalina brougham', 'dodge monaco (sw)',\n",
              "       'ford country squire (sw)', 'pontiac safari (sw)',\n",
              "       'amc hornet sportabout (sw)', 'chevrolet vega (sw)',\n",
              "       'pontiac firebird', 'ford mustang', 'mercury capri 2000',\n",
              "       'opel 1900', 'peugeot 304', 'fiat 124b', 'toyota corolla 1200',\n",
              "       'datsun 1200', 'volkswagen model 111', 'plymouth cricket',\n",
              "       'toyota corona hardtop', 'dodge colt hardtop', 'volkswagen type 3',\n",
              "       'chevrolet vega', 'ford pinto runabout', 'amc ambassador sst',\n",
              "       'mercury marquis', 'buick lesabre custom',\n",
              "       'oldsmobile delta 88 royale', 'chrysler newport royal',\n",
              "       'mazda rx2 coupe', 'amc matador (sw)',\n",
              "       'chevrolet chevelle concours (sw)', 'ford gran torino (sw)',\n",
              "       'plymouth satellite custom (sw)', 'volvo 145e (sw)',\n",
              "       'volkswagen 411 (sw)', 'peugeot 504 (sw)', 'renault 12 (sw)',\n",
              "       'ford pinto (sw)', 'datsun 510 (sw)',\n",
              "       'toyouta corona mark ii (sw)', 'dodge colt (sw)',\n",
              "       'toyota corolla 1600 (sw)', 'buick century 350',\n",
              "       'chevrolet malibu', 'ford gran torino', 'dodge coronet custom',\n",
              "       'mercury marquis brougham', 'chevrolet caprice classic',\n",
              "       'ford ltd', 'plymouth fury gran sedan',\n",
              "       'chrysler new yorker brougham', 'buick electra 225 custom',\n",
              "       'amc ambassador brougham', 'plymouth valiant',\n",
              "       'chevrolet nova custom', 'volkswagen super beetle', 'ford country',\n",
              "       'plymouth custom suburb', 'oldsmobile vista cruiser',\n",
              "       'toyota carina', 'datsun 610', 'maxda rx3', 'mercury capri v6',\n",
              "       'fiat 124 sport coupe', 'chevrolet monte carlo s',\n",
              "       'pontiac grand prix', 'fiat 128', 'opel manta', 'audi 100ls',\n",
              "       'volvo 144ea', 'dodge dart custom', 'saab 99le', 'toyota mark ii',\n",
              "       'oldsmobile omega', 'chevrolet nova', 'datsun b210',\n",
              "       'chevrolet chevelle malibu classic', 'plymouth satellite sebring',\n",
              "       'buick century luxus (sw)', 'dodge coronet custom (sw)',\n",
              "       'audi fox', 'volkswagen dasher', 'datsun 710', 'dodge colt',\n",
              "       'fiat 124 tc', 'honda civic', 'subaru', 'fiat x1.9',\n",
              "       'plymouth valiant custom', 'mercury monarch', 'chevrolet bel air',\n",
              "       'plymouth grand fury', 'buick century',\n",
              "       'chevroelt chevelle malibu', 'plymouth fury', 'buick skyhawk',\n",
              "       'chevrolet monza 2+2', 'ford mustang ii', 'toyota corolla',\n",
              "       'pontiac astro', 'volkswagen rabbit', 'amc pacer', 'volvo 244dl',\n",
              "       'honda civic cvcc', 'fiat 131', 'capri ii', 'renault 12tl',\n",
              "       'dodge coronet brougham', 'chevrolet chevette', 'chevrolet woody',\n",
              "       'vw rabbit', 'dodge aspen se', 'ford granada ghia',\n",
              "       'pontiac ventura sj', 'amc pacer d/l', 'datsun b-210', 'volvo 245',\n",
              "       'plymouth volare premier v8', 'mercedes-benz 280s',\n",
              "       'cadillac seville', 'chevy c10', 'ford f108', 'dodge d100',\n",
              "       'honda accord cvcc', 'buick opel isuzu deluxe', 'renault 5 gtl',\n",
              "       'plymouth arrow gs', 'datsun f-10 hatchback',\n",
              "       'oldsmobile cutlass supreme', 'dodge monaco brougham',\n",
              "       'mercury cougar brougham', 'chevrolet concours', 'buick skylark',\n",
              "       'plymouth volare custom', 'ford granada', 'pontiac grand prix lj',\n",
              "       'chevrolet monte carlo landau', 'chrysler cordoba',\n",
              "       'ford thunderbird', 'volkswagen rabbit custom',\n",
              "       'pontiac sunbird coupe', 'toyota corolla liftback',\n",
              "       'ford mustang ii 2+2', 'dodge colt m/m', 'subaru dl', 'datsun 810',\n",
              "       'bmw 320i', 'mazda rx-4', 'volkswagen rabbit custom diesel',\n",
              "       'ford fiesta', 'mazda glc deluxe', 'datsun b210 gx',\n",
              "       'oldsmobile cutlass salon brougham', 'dodge diplomat',\n",
              "       'mercury monarch ghia', 'pontiac phoenix lj',\n",
              "       'ford fairmont (auto)', 'ford fairmont (man)', 'plymouth volare',\n",
              "       'amc concord', 'buick century special', 'mercury zephyr',\n",
              "       'dodge aspen', 'amc concord d/l',\n",
              "       'buick regal sport coupe (turbo)', 'ford futura',\n",
              "       'dodge magnum xe', 'datsun 510', 'dodge omni',\n",
              "       'toyota celica gt liftback', 'plymouth sapporo',\n",
              "       'oldsmobile starfire sx', 'datsun 200-sx', 'audi 5000',\n",
              "       'volvo 264gl', 'saab 99gle', 'peugeot 604sl',\n",
              "       'volkswagen scirocco', 'honda accord lx', 'pontiac lemans v6',\n",
              "       'mercury zephyr 6', 'ford fairmont 4', 'amc concord dl 6',\n",
              "       'dodge aspen 6', 'ford ltd landau', 'mercury grand marquis',\n",
              "       'dodge st. regis', 'chevrolet malibu classic (sw)',\n",
              "       'chrysler lebaron town @ country (sw)', 'vw rabbit custom',\n",
              "       'maxda glc deluxe', 'dodge colt hatchback custom', 'amc spirit dl',\n",
              "       'mercedes benz 300d', 'cadillac eldorado', 'plymouth horizon',\n",
              "       'plymouth horizon tc3', 'datsun 210', 'fiat strada custom',\n",
              "       'buick skylark limited', 'chevrolet citation',\n",
              "       'oldsmobile omega brougham', 'pontiac phoenix',\n",
              "       'toyota corolla tercel', 'datsun 310', 'ford fairmont',\n",
              "       'audi 4000', 'toyota corona liftback', 'mazda 626',\n",
              "       'datsun 510 hatchback', 'mazda glc', 'vw rabbit c (diesel)',\n",
              "       'vw dasher (diesel)', 'audi 5000s (diesel)', 'mercedes-benz 240d',\n",
              "       'honda civic 1500 gl', 'renault lecar deluxe', 'vokswagen rabbit',\n",
              "       'datsun 280-zx', 'mazda rx-7 gs', 'triumph tr7 coupe',\n",
              "       'ford mustang cobra', 'honda accord', 'plymouth reliant',\n",
              "       'dodge aries wagon (sw)', 'toyota starlet', 'plymouth champ',\n",
              "       'honda civic 1300', 'datsun 210 mpg', 'toyota tercel',\n",
              "       'mazda glc 4', 'plymouth horizon 4', 'ford escort 4w',\n",
              "       'ford escort 2h', 'volkswagen jetta', 'renault 18i',\n",
              "       'honda prelude', 'datsun 200sx', 'peugeot 505s turbo diesel',\n",
              "       'volvo diesel', 'toyota cressida', 'datsun 810 maxima',\n",
              "       'oldsmobile cutlass ls', 'ford granada gl',\n",
              "       'chrysler lebaron salon', 'chevrolet cavalier',\n",
              "       'chevrolet cavalier wagon', 'chevrolet cavalier 2-door',\n",
              "       'pontiac j2000 se hatchback', 'dodge aries se',\n",
              "       'ford fairmont futura', 'amc concord dl', 'volkswagen rabbit l',\n",
              "       'mazda glc custom l', 'mazda glc custom', 'plymouth horizon miser',\n",
              "       'mercury lynx l', 'nissan stanza xe', 'honda civic (auto)',\n",
              "       'datsun 310 gx', 'buick century limited',\n",
              "       'oldsmobile cutlass ciera (diesel)', 'chrysler lebaron medallion',\n",
              "       'ford granada l', 'toyota celica gt', 'dodge charger 2.2',\n",
              "       'chevrolet camaro', 'ford mustang gl', 'vw pickup',\n",
              "       'dodge rampage', 'ford ranger', 'chevy s-10'], dtype=object)"
            ]
          },
          "metadata": {
            "tags": []
          },
          "execution_count": 111
        }
      ]
    },
    {
      "cell_type": "code",
      "metadata": {
        "colab": {
          "base_uri": "https://localhost:8080/",
          "height": 359
        },
        "id": "_j2SOU391wYu",
        "outputId": "589cd879-631b-4959-e512-9515a7a09a38"
      },
      "source": [
        "df.head()"
      ],
      "execution_count": 112,
      "outputs": [
        {
          "output_type": "execute_result",
          "data": {
            "text/html": [
              "<div>\n",
              "<style scoped>\n",
              "    .dataframe tbody tr th:only-of-type {\n",
              "        vertical-align: middle;\n",
              "    }\n",
              "\n",
              "    .dataframe tbody tr th {\n",
              "        vertical-align: top;\n",
              "    }\n",
              "\n",
              "    .dataframe thead th {\n",
              "        text-align: right;\n",
              "    }\n",
              "</style>\n",
              "<table border=\"1\" class=\"dataframe\">\n",
              "  <thead>\n",
              "    <tr style=\"text-align: right;\">\n",
              "      <th></th>\n",
              "      <th>mpg</th>\n",
              "      <th>cylinders</th>\n",
              "      <th>displacement</th>\n",
              "      <th>horsepower</th>\n",
              "      <th>weight</th>\n",
              "      <th>acceleration</th>\n",
              "      <th>model year</th>\n",
              "      <th>origin</th>\n",
              "      <th>name</th>\n",
              "    </tr>\n",
              "  </thead>\n",
              "  <tbody>\n",
              "    <tr>\n",
              "      <th>0</th>\n",
              "      <td>18.0</td>\n",
              "      <td>8</td>\n",
              "      <td>307.0</td>\n",
              "      <td>130.0</td>\n",
              "      <td>3504.0</td>\n",
              "      <td>12.0</td>\n",
              "      <td>70</td>\n",
              "      <td>1</td>\n",
              "      <td>chevrolet chevelle malibu</td>\n",
              "    </tr>\n",
              "    <tr>\n",
              "      <th>1</th>\n",
              "      <td>15.0</td>\n",
              "      <td>8</td>\n",
              "      <td>350.0</td>\n",
              "      <td>165.0</td>\n",
              "      <td>3693.0</td>\n",
              "      <td>11.5</td>\n",
              "      <td>70</td>\n",
              "      <td>1</td>\n",
              "      <td>buick skylark 320</td>\n",
              "    </tr>\n",
              "    <tr>\n",
              "      <th>2</th>\n",
              "      <td>18.0</td>\n",
              "      <td>8</td>\n",
              "      <td>318.0</td>\n",
              "      <td>150.0</td>\n",
              "      <td>3436.0</td>\n",
              "      <td>11.0</td>\n",
              "      <td>70</td>\n",
              "      <td>1</td>\n",
              "      <td>plymouth satellite</td>\n",
              "    </tr>\n",
              "    <tr>\n",
              "      <th>3</th>\n",
              "      <td>16.0</td>\n",
              "      <td>8</td>\n",
              "      <td>304.0</td>\n",
              "      <td>150.0</td>\n",
              "      <td>3433.0</td>\n",
              "      <td>12.0</td>\n",
              "      <td>70</td>\n",
              "      <td>1</td>\n",
              "      <td>amc rebel sst</td>\n",
              "    </tr>\n",
              "    <tr>\n",
              "      <th>4</th>\n",
              "      <td>17.0</td>\n",
              "      <td>8</td>\n",
              "      <td>302.0</td>\n",
              "      <td>140.0</td>\n",
              "      <td>3449.0</td>\n",
              "      <td>10.5</td>\n",
              "      <td>70</td>\n",
              "      <td>1</td>\n",
              "      <td>ford torino</td>\n",
              "    </tr>\n",
              "  </tbody>\n",
              "</table>\n",
              "</div>"
            ],
            "text/plain": [
              "    mpg  cylinders  displacement  ...  model year  origin                       name\n",
              "0  18.0          8         307.0  ...          70       1  chevrolet chevelle malibu\n",
              "1  15.0          8         350.0  ...          70       1          buick skylark 320\n",
              "2  18.0          8         318.0  ...          70       1         plymouth satellite\n",
              "3  16.0          8         304.0  ...          70       1              amc rebel sst\n",
              "4  17.0          8         302.0  ...          70       1                ford torino\n",
              "\n",
              "[5 rows x 9 columns]"
            ]
          },
          "metadata": {
            "tags": []
          },
          "execution_count": 112
        }
      ]
    },
    {
      "cell_type": "markdown",
      "metadata": {
        "id": "0y8AD95RLzQX"
      },
      "source": [
        "## 분류와 연속 컬럼 구분"
      ]
    },
    {
      "cell_type": "code",
      "metadata": {
        "id": "t1pOz2Oq2j9e",
        "colab": {
          "base_uri": "https://localhost:8080/",
          "height": 519
        },
        "outputId": "d9d50c1d-bbf6-4131-f25f-a876706bd91c"
      },
      "source": [
        "df.head(8)"
      ],
      "execution_count": 113,
      "outputs": [
        {
          "output_type": "execute_result",
          "data": {
            "text/html": [
              "<div>\n",
              "<style scoped>\n",
              "    .dataframe tbody tr th:only-of-type {\n",
              "        vertical-align: middle;\n",
              "    }\n",
              "\n",
              "    .dataframe tbody tr th {\n",
              "        vertical-align: top;\n",
              "    }\n",
              "\n",
              "    .dataframe thead th {\n",
              "        text-align: right;\n",
              "    }\n",
              "</style>\n",
              "<table border=\"1\" class=\"dataframe\">\n",
              "  <thead>\n",
              "    <tr style=\"text-align: right;\">\n",
              "      <th></th>\n",
              "      <th>mpg</th>\n",
              "      <th>cylinders</th>\n",
              "      <th>displacement</th>\n",
              "      <th>horsepower</th>\n",
              "      <th>weight</th>\n",
              "      <th>acceleration</th>\n",
              "      <th>model year</th>\n",
              "      <th>origin</th>\n",
              "      <th>name</th>\n",
              "    </tr>\n",
              "  </thead>\n",
              "  <tbody>\n",
              "    <tr>\n",
              "      <th>0</th>\n",
              "      <td>18.0</td>\n",
              "      <td>8</td>\n",
              "      <td>307.0</td>\n",
              "      <td>130.0</td>\n",
              "      <td>3504.0</td>\n",
              "      <td>12.0</td>\n",
              "      <td>70</td>\n",
              "      <td>1</td>\n",
              "      <td>chevrolet chevelle malibu</td>\n",
              "    </tr>\n",
              "    <tr>\n",
              "      <th>1</th>\n",
              "      <td>15.0</td>\n",
              "      <td>8</td>\n",
              "      <td>350.0</td>\n",
              "      <td>165.0</td>\n",
              "      <td>3693.0</td>\n",
              "      <td>11.5</td>\n",
              "      <td>70</td>\n",
              "      <td>1</td>\n",
              "      <td>buick skylark 320</td>\n",
              "    </tr>\n",
              "    <tr>\n",
              "      <th>2</th>\n",
              "      <td>18.0</td>\n",
              "      <td>8</td>\n",
              "      <td>318.0</td>\n",
              "      <td>150.0</td>\n",
              "      <td>3436.0</td>\n",
              "      <td>11.0</td>\n",
              "      <td>70</td>\n",
              "      <td>1</td>\n",
              "      <td>plymouth satellite</td>\n",
              "    </tr>\n",
              "    <tr>\n",
              "      <th>3</th>\n",
              "      <td>16.0</td>\n",
              "      <td>8</td>\n",
              "      <td>304.0</td>\n",
              "      <td>150.0</td>\n",
              "      <td>3433.0</td>\n",
              "      <td>12.0</td>\n",
              "      <td>70</td>\n",
              "      <td>1</td>\n",
              "      <td>amc rebel sst</td>\n",
              "    </tr>\n",
              "    <tr>\n",
              "      <th>4</th>\n",
              "      <td>17.0</td>\n",
              "      <td>8</td>\n",
              "      <td>302.0</td>\n",
              "      <td>140.0</td>\n",
              "      <td>3449.0</td>\n",
              "      <td>10.5</td>\n",
              "      <td>70</td>\n",
              "      <td>1</td>\n",
              "      <td>ford torino</td>\n",
              "    </tr>\n",
              "    <tr>\n",
              "      <th>5</th>\n",
              "      <td>15.0</td>\n",
              "      <td>8</td>\n",
              "      <td>429.0</td>\n",
              "      <td>198.0</td>\n",
              "      <td>4341.0</td>\n",
              "      <td>10.0</td>\n",
              "      <td>70</td>\n",
              "      <td>1</td>\n",
              "      <td>ford galaxie 500</td>\n",
              "    </tr>\n",
              "    <tr>\n",
              "      <th>6</th>\n",
              "      <td>14.0</td>\n",
              "      <td>8</td>\n",
              "      <td>454.0</td>\n",
              "      <td>220.0</td>\n",
              "      <td>4354.0</td>\n",
              "      <td>9.0</td>\n",
              "      <td>70</td>\n",
              "      <td>1</td>\n",
              "      <td>chevrolet impala</td>\n",
              "    </tr>\n",
              "    <tr>\n",
              "      <th>7</th>\n",
              "      <td>14.0</td>\n",
              "      <td>8</td>\n",
              "      <td>440.0</td>\n",
              "      <td>215.0</td>\n",
              "      <td>4312.0</td>\n",
              "      <td>8.5</td>\n",
              "      <td>70</td>\n",
              "      <td>1</td>\n",
              "      <td>plymouth fury iii</td>\n",
              "    </tr>\n",
              "  </tbody>\n",
              "</table>\n",
              "</div>"
            ],
            "text/plain": [
              "    mpg  cylinders  displacement  ...  model year  origin                       name\n",
              "0  18.0          8         307.0  ...          70       1  chevrolet chevelle malibu\n",
              "1  15.0          8         350.0  ...          70       1          buick skylark 320\n",
              "2  18.0          8         318.0  ...          70       1         plymouth satellite\n",
              "3  16.0          8         304.0  ...          70       1              amc rebel sst\n",
              "4  17.0          8         302.0  ...          70       1                ford torino\n",
              "5  15.0          8         429.0  ...          70       1           ford galaxie 500\n",
              "6  14.0          8         454.0  ...          70       1           chevrolet impala\n",
              "7  14.0          8         440.0  ...          70       1          plymouth fury iii\n",
              "\n",
              "[8 rows x 9 columns]"
            ]
          },
          "metadata": {
            "tags": []
          },
          "execution_count": 113
        }
      ]
    },
    {
      "cell_type": "markdown",
      "metadata": {
        "id": "c3t8-vQDM6cu"
      },
      "source": [
        "### check columns \n",
        "- 연속형 : displacement, horsepower, weight, acceleration, mpg\n",
        "- 분류형 : model year, name, cylinders, origin"
      ]
    },
    {
      "cell_type": "code",
      "metadata": {
        "colab": {
          "base_uri": "https://localhost:8080/"
        },
        "id": "crrCV2smV_Bb",
        "outputId": "3f217b78-38fb-4ba9-e235-9dfa54b138c8"
      },
      "source": [
        "df['name'].value_counts()"
      ],
      "execution_count": 114,
      "outputs": [
        {
          "output_type": "execute_result",
          "data": {
            "text/plain": [
              "ford pinto                         6\n",
              "toyota corolla                     5\n",
              "ford maverick                      5\n",
              "amc matador                        5\n",
              "peugeot 504                        4\n",
              "                                  ..\n",
              "chevrolet concours                 1\n",
              "buick regal sport coupe (turbo)    1\n",
              "ford ltd landau                    1\n",
              "ford mustang ii                    1\n",
              "ford f250                          1\n",
              "Name: name, Length: 305, dtype: int64"
            ]
          },
          "metadata": {
            "tags": []
          },
          "execution_count": 114
        }
      ]
    },
    {
      "cell_type": "code",
      "metadata": {
        "colab": {
          "base_uri": "https://localhost:8080/"
        },
        "id": "dR33CZz8Ps4t",
        "outputId": "7ae501af-4ae6-45fe-85c4-4f835c599dcf"
      },
      "source": [
        "df['origin'].value_counts()"
      ],
      "execution_count": 115,
      "outputs": [
        {
          "output_type": "execute_result",
          "data": {
            "text/plain": [
              "1    249\n",
              "3     79\n",
              "2     70\n",
              "Name: origin, dtype: int64"
            ]
          },
          "metadata": {
            "tags": []
          },
          "execution_count": 115
        }
      ]
    },
    {
      "cell_type": "code",
      "metadata": {
        "colab": {
          "base_uri": "https://localhost:8080/"
        },
        "id": "nAmKrnH4M06P",
        "outputId": "e6c4c2fe-4259-429d-b333-5c342328cc47"
      },
      "source": [
        "df['mpg'].describe(include='all')"
      ],
      "execution_count": 116,
      "outputs": [
        {
          "output_type": "execute_result",
          "data": {
            "text/plain": [
              "count    398.000000\n",
              "mean      23.514573\n",
              "std        7.815984\n",
              "min        9.000000\n",
              "25%       17.500000\n",
              "50%       23.000000\n",
              "75%       29.000000\n",
              "max       46.600000\n",
              "Name: mpg, dtype: float64"
            ]
          },
          "metadata": {
            "tags": []
          },
          "execution_count": 116
        }
      ]
    },
    {
      "cell_type": "code",
      "metadata": {
        "colab": {
          "base_uri": "https://localhost:8080/"
        },
        "id": "ZxxhjhpTOgX2",
        "outputId": "dfaa923c-d21b-49ba-fd70-9a712d91aa47"
      },
      "source": [
        "df['mpg'].value_counts()"
      ],
      "execution_count": 117,
      "outputs": [
        {
          "output_type": "execute_result",
          "data": {
            "text/plain": [
              "13.0    20\n",
              "14.0    19\n",
              "18.0    17\n",
              "15.0    16\n",
              "26.0    14\n",
              "        ..\n",
              "34.2     1\n",
              "38.1     1\n",
              "37.2     1\n",
              "32.1     1\n",
              "32.7     1\n",
              "Name: mpg, Length: 129, dtype: int64"
            ]
          },
          "metadata": {
            "tags": []
          },
          "execution_count": 117
        }
      ]
    },
    {
      "cell_type": "markdown",
      "metadata": {
        "id": "ZND5xAAlQLM1"
      },
      "source": [
        "## 정규화 단계"
      ]
    },
    {
      "cell_type": "code",
      "metadata": {
        "id": "FFBoB_kbPCb2"
      },
      "source": [
        "Y = df['mpg']\n",
        "X_contiuns = df[['displacement', 'horsepower', 'weight', 'acceleration']]\n",
        "X_category = df[['model year', 'cylinders', 'origin']]"
      ],
      "execution_count": 118,
      "outputs": []
    },
    {
      "cell_type": "code",
      "metadata": {
        "id": "v8ZWm20iYIkZ"
      },
      "source": [
        "from sklearn import preprocessing"
      ],
      "execution_count": 119,
      "outputs": []
    },
    {
      "cell_type": "code",
      "metadata": {
        "colab": {
          "base_uri": "https://localhost:8080/"
        },
        "id": "GTA2BfxEYu8b",
        "outputId": "bef38c00-b5b5-4e25-bf65-4270df68c333"
      },
      "source": [
        "scaler = preprocessing.StandardScaler()\n",
        "type(scaler)"
      ],
      "execution_count": 120,
      "outputs": [
        {
          "output_type": "execute_result",
          "data": {
            "text/plain": [
              "sklearn.preprocessing._data.StandardScaler"
            ]
          },
          "metadata": {
            "tags": []
          },
          "execution_count": 120
        }
      ]
    },
    {
      "cell_type": "code",
      "metadata": {
        "colab": {
          "base_uri": "https://localhost:8080/"
        },
        "id": "QcFCc48MYfcR",
        "outputId": "4694262b-7be4-4117-c439-ab579df43cb4"
      },
      "source": [
        "scaler.fit(X_contiuns)"
      ],
      "execution_count": 121,
      "outputs": [
        {
          "output_type": "execute_result",
          "data": {
            "text/plain": [
              "StandardScaler(copy=True, with_mean=True, with_std=True)"
            ]
          },
          "metadata": {
            "tags": []
          },
          "execution_count": 121
        }
      ]
    },
    {
      "cell_type": "code",
      "metadata": {
        "id": "RM3sv8eVZaao"
      },
      "source": [
        "X = scaler.transform(X_contiuns)"
      ],
      "execution_count": 122,
      "outputs": []
    },
    {
      "cell_type": "code",
      "metadata": {
        "id": "HIefUHGAZvZo"
      },
      "source": [
        "from sklearn.linear_model import LinearRegression"
      ],
      "execution_count": 123,
      "outputs": []
    },
    {
      "cell_type": "code",
      "metadata": {
        "colab": {
          "base_uri": "https://localhost:8080/"
        },
        "id": "eXCUt886aI94",
        "outputId": "4e497f5a-7659-4c4b-eff6-7f87962cfda4"
      },
      "source": [
        "lr = LinearRegression()\n",
        "type(lr)"
      ],
      "execution_count": 124,
      "outputs": [
        {
          "output_type": "execute_result",
          "data": {
            "text/plain": [
              "sklearn.linear_model._base.LinearRegression"
            ]
          },
          "metadata": {
            "tags": []
          },
          "execution_count": 124
        }
      ]
    },
    {
      "cell_type": "code",
      "metadata": {
        "colab": {
          "base_uri": "https://localhost:8080/"
        },
        "id": "rzCcG_ZpaSYY",
        "outputId": "8b3c75b2-f1e2-41b1-ebb4-caad84836d4f"
      },
      "source": [
        "lr.fit(X,Y)"
      ],
      "execution_count": 125,
      "outputs": [
        {
          "output_type": "execute_result",
          "data": {
            "text/plain": [
              "LinearRegression(copy_X=True, fit_intercept=True, n_jobs=None, normalize=False)"
            ]
          },
          "metadata": {
            "tags": []
          },
          "execution_count": 125
        }
      ]
    },
    {
      "cell_type": "code",
      "metadata": {
        "colab": {
          "base_uri": "https://localhost:8080/"
        },
        "id": "okkO8aIoabOg",
        "outputId": "0e240534-35ff-46aa-f0c0-65eced15064d"
      },
      "source": [
        "lr.score(X,Y)"
      ],
      "execution_count": 126,
      "outputs": [
        {
          "output_type": "execute_result",
          "data": {
            "text/plain": [
              "0.7061364273740109"
            ]
          },
          "metadata": {
            "tags": []
          },
          "execution_count": 126
        }
      ]
    },
    {
      "cell_type": "code",
      "metadata": {
        "id": "bd-MVmiFn8y6",
        "colab": {
          "base_uri": "https://localhost:8080/",
          "height": 0
        },
        "outputId": "b0de72a9-eba7-43fe-a30e-f75b0f68c5d7"
      },
      "source": [
        "df.head(1)"
      ],
      "execution_count": 127,
      "outputs": [
        {
          "output_type": "execute_result",
          "data": {
            "text/html": [
              "<div>\n",
              "<style scoped>\n",
              "    .dataframe tbody tr th:only-of-type {\n",
              "        vertical-align: middle;\n",
              "    }\n",
              "\n",
              "    .dataframe tbody tr th {\n",
              "        vertical-align: top;\n",
              "    }\n",
              "\n",
              "    .dataframe thead th {\n",
              "        text-align: right;\n",
              "    }\n",
              "</style>\n",
              "<table border=\"1\" class=\"dataframe\">\n",
              "  <thead>\n",
              "    <tr style=\"text-align: right;\">\n",
              "      <th></th>\n",
              "      <th>mpg</th>\n",
              "      <th>cylinders</th>\n",
              "      <th>displacement</th>\n",
              "      <th>horsepower</th>\n",
              "      <th>weight</th>\n",
              "      <th>acceleration</th>\n",
              "      <th>model year</th>\n",
              "      <th>origin</th>\n",
              "      <th>name</th>\n",
              "    </tr>\n",
              "  </thead>\n",
              "  <tbody>\n",
              "    <tr>\n",
              "      <th>0</th>\n",
              "      <td>18.0</td>\n",
              "      <td>8</td>\n",
              "      <td>307.0</td>\n",
              "      <td>130.0</td>\n",
              "      <td>3504.0</td>\n",
              "      <td>12.0</td>\n",
              "      <td>70</td>\n",
              "      <td>1</td>\n",
              "      <td>chevrolet chevelle malibu</td>\n",
              "    </tr>\n",
              "  </tbody>\n",
              "</table>\n",
              "</div>"
            ],
            "text/plain": [
              "    mpg  cylinders  displacement  ...  model year  origin                       name\n",
              "0  18.0          8         307.0  ...          70       1  chevrolet chevelle malibu\n",
              "\n",
              "[1 rows x 9 columns]"
            ]
          },
          "metadata": {
            "tags": []
          },
          "execution_count": 127
        }
      ]
    },
    {
      "cell_type": "markdown",
      "metadata": {
        "id": "3q-HAG51q38C"
      },
      "source": [
        "### X_contiuns = df[['displacement', 'horsepower', 'weight', 'acceleration']]\n"
      ]
    },
    {
      "cell_type": "code",
      "metadata": {
        "id": "v7f_CfHJr7Lq",
        "colab": {
          "base_uri": "https://localhost:8080/"
        },
        "outputId": "8d9bcd0a-6275-4623-9652-50191aaab16b"
      },
      "source": [
        "x_cusmter = scaler.transform([[307.0,130.0,3504.0,12.0]])\n",
        "x_cusmter.shape"
      ],
      "execution_count": 128,
      "outputs": [
        {
          "output_type": "execute_result",
          "data": {
            "text/plain": [
              "(1, 4)"
            ]
          },
          "metadata": {
            "tags": []
          },
          "execution_count": 128
        }
      ]
    },
    {
      "cell_type": "code",
      "metadata": {
        "id": "q-0CMXvjqz55",
        "colab": {
          "base_uri": "https://localhost:8080/"
        },
        "outputId": "69ea0b57-4390-47a8-da81-3fe2cffd9207"
      },
      "source": [
        "lr.predict(x_cusmter)"
      ],
      "execution_count": 129,
      "outputs": [
        {
          "output_type": "execute_result",
          "data": {
            "text/plain": [
              "array([18.99743588])"
            ]
          },
          "metadata": {
            "tags": []
          },
          "execution_count": 129
        }
      ]
    },
    {
      "cell_type": "markdown",
      "metadata": {
        "id": "FzEBB48fR-34"
      },
      "source": [
        "### XGboost"
      ]
    },
    {
      "cell_type": "code",
      "metadata": {
        "id": "1kWANYVJR-ay",
        "colab": {
          "base_uri": "https://localhost:8080/"
        },
        "outputId": "d2f97f2a-912c-4945-bb57-57706c1023ab"
      },
      "source": [
        "import xgboost as xgb\n",
        "model_xgb = xgb.XGBRegressor()\n",
        "model_xgb.fit(X, Y)\n"
      ],
      "execution_count": 130,
      "outputs": [
        {
          "output_type": "stream",
          "text": [
            "[07:51:16] WARNING: /workspace/src/objective/regression_obj.cu:152: reg:linear is now deprecated in favor of reg:squarederror.\n"
          ],
          "name": "stdout"
        },
        {
          "output_type": "execute_result",
          "data": {
            "text/plain": [
              "XGBRegressor(base_score=0.5, booster='gbtree', colsample_bylevel=1,\n",
              "             colsample_bynode=1, colsample_bytree=1, gamma=0,\n",
              "             importance_type='gain', learning_rate=0.1, max_delta_step=0,\n",
              "             max_depth=3, min_child_weight=1, missing=None, n_estimators=100,\n",
              "             n_jobs=1, nthread=None, objective='reg:linear', random_state=0,\n",
              "             reg_alpha=0, reg_lambda=1, scale_pos_weight=1, seed=None,\n",
              "             silent=None, subsample=1, verbosity=1)"
            ]
          },
          "metadata": {
            "tags": []
          },
          "execution_count": 130
        }
      ]
    },
    {
      "cell_type": "code",
      "metadata": {
        "colab": {
          "base_uri": "https://localhost:8080/"
        },
        "id": "9ROvbAniS17S",
        "outputId": "1e586f79-6ccc-44c5-bdf5-2001c44373c9"
      },
      "source": [
        "model_xgb.score(X,Y)"
      ],
      "execution_count": 131,
      "outputs": [
        {
          "output_type": "execute_result",
          "data": {
            "text/plain": [
              "0.9162902848013121"
            ]
          },
          "metadata": {
            "tags": []
          },
          "execution_count": 131
        }
      ]
    },
    {
      "cell_type": "code",
      "metadata": {
        "colab": {
          "base_uri": "https://localhost:8080/"
        },
        "id": "LGeRP1OaSsgV",
        "outputId": "69a49dae-98d1-44ef-faba-e1dffe199131"
      },
      "source": [
        "model_xgb.predict(x_cusmter)"
      ],
      "execution_count": 132,
      "outputs": [
        {
          "output_type": "execute_result",
          "data": {
            "text/plain": [
              "array([17.291206], dtype=float32)"
            ]
          },
          "metadata": {
            "tags": []
          },
          "execution_count": 132
        }
      ]
    },
    {
      "cell_type": "markdown",
      "metadata": {
        "id": "LfdCPRfeWHOW"
      },
      "source": [
        "### LightXGboost"
      ]
    },
    {
      "cell_type": "code",
      "metadata": {
        "id": "x1YAJmpqWGgd"
      },
      "source": [
        "from lightgbm import LGBMRegressor"
      ],
      "execution_count": 133,
      "outputs": []
    },
    {
      "cell_type": "code",
      "metadata": {
        "colab": {
          "base_uri": "https://localhost:8080/"
        },
        "id": "PNLeYGneWOb9",
        "outputId": "3bb969d9-d618-4511-d519-b1ff18c96708"
      },
      "source": [
        "model_lxgb = LGBMRegressor()\n",
        "model_lxgb.fit(X, Y)\n",
        "model_lxgb.score(X, Y)"
      ],
      "execution_count": 134,
      "outputs": [
        {
          "output_type": "execute_result",
          "data": {
            "text/plain": [
              "0.9265353008586303"
            ]
          },
          "metadata": {
            "tags": []
          },
          "execution_count": 134
        }
      ]
    },
    {
      "cell_type": "markdown",
      "metadata": {
        "id": "zJ-K6FZFnlez"
      },
      "source": [
        "## pickle"
      ]
    },
    {
      "cell_type": "code",
      "metadata": {
        "id": "IU4Jv-1XavZ4"
      },
      "source": [
        "import pickle\n",
        "pickle.dump(lr, open('./autompg_lr.pkl','wb'))"
      ],
      "execution_count": 135,
      "outputs": []
    },
    {
      "cell_type": "markdown",
      "metadata": {
        "id": "KtL2gRboHOBn"
      },
      "source": [
        ""
      ]
    },
    {
      "cell_type": "code",
      "metadata": {
        "colab": {
          "base_uri": "https://localhost:8080/"
        },
        "id": "VbdldP0tfs1g",
        "outputId": "6d40ea73-5527-4e80-9f3a-b140673349ea"
      },
      "source": [
        "!ls -l ./saves/autompg_lr.pkl"
      ],
      "execution_count": 136,
      "outputs": [
        {
          "output_type": "stream",
          "text": [
            "-rw-r--r-- 1 root root 567 Jul  6 07:50 ./saves/autompg_lr.pkl\n"
          ],
          "name": "stdout"
        }
      ]
    },
    {
      "cell_type": "code",
      "metadata": {
        "colab": {
          "base_uri": "https://localhost:8080/"
        },
        "id": "eRiW3TRsgk2e",
        "outputId": "c014e99f-fa17-4c8a-d395-9cdb27bcfce0"
      },
      "source": [
        "pickle.load(open('./saves/autompg_lr.pkl', 'rb'))"
      ],
      "execution_count": 137,
      "outputs": [
        {
          "output_type": "execute_result",
          "data": {
            "text/plain": [
              "LinearRegression(copy_X=True, fit_intercept=True, n_jobs=None, normalize=False)"
            ]
          },
          "metadata": {
            "tags": []
          },
          "execution_count": 137
        }
      ]
    },
    {
      "cell_type": "code",
      "metadata": {
        "id": "GYMh64wyg1Me"
      },
      "source": [
        "pickle.dump(scaler, open('./autompg_standardscaler.pkl','wb'))"
      ],
      "execution_count": 138,
      "outputs": []
    },
    {
      "cell_type": "code",
      "metadata": {
        "id": "YGyQbr5ptuuI"
      },
      "source": [
        ""
      ],
      "execution_count": 138,
      "outputs": []
    },
    {
      "cell_type": "markdown",
      "metadata": {
        "id": "1ZyrqMgeHWQu"
      },
      "source": [
        "## One hot encoding"
      ]
    },
    {
      "cell_type": "code",
      "metadata": {
        "colab": {
          "base_uri": "https://localhost:8080/",
          "height": 141
        },
        "id": "9TeCcRmMfqhZ",
        "outputId": "378013c6-a85e-4dda-cab1-9b1b84463e6e"
      },
      "source": [
        "X_category.head(3)"
      ],
      "execution_count": 139,
      "outputs": [
        {
          "output_type": "execute_result",
          "data": {
            "text/html": [
              "<div>\n",
              "<style scoped>\n",
              "    .dataframe tbody tr th:only-of-type {\n",
              "        vertical-align: middle;\n",
              "    }\n",
              "\n",
              "    .dataframe tbody tr th {\n",
              "        vertical-align: top;\n",
              "    }\n",
              "\n",
              "    .dataframe thead th {\n",
              "        text-align: right;\n",
              "    }\n",
              "</style>\n",
              "<table border=\"1\" class=\"dataframe\">\n",
              "  <thead>\n",
              "    <tr style=\"text-align: right;\">\n",
              "      <th></th>\n",
              "      <th>model year</th>\n",
              "      <th>cylinders</th>\n",
              "      <th>origin</th>\n",
              "    </tr>\n",
              "  </thead>\n",
              "  <tbody>\n",
              "    <tr>\n",
              "      <th>0</th>\n",
              "      <td>70</td>\n",
              "      <td>8</td>\n",
              "      <td>1</td>\n",
              "    </tr>\n",
              "    <tr>\n",
              "      <th>1</th>\n",
              "      <td>70</td>\n",
              "      <td>8</td>\n",
              "      <td>1</td>\n",
              "    </tr>\n",
              "    <tr>\n",
              "      <th>2</th>\n",
              "      <td>70</td>\n",
              "      <td>8</td>\n",
              "      <td>1</td>\n",
              "    </tr>\n",
              "  </tbody>\n",
              "</table>\n",
              "</div>"
            ],
            "text/plain": [
              "   model year  cylinders  origin\n",
              "0          70          8       1\n",
              "1          70          8       1\n",
              "2          70          8       1"
            ]
          },
          "metadata": {
            "tags": []
          },
          "execution_count": 139
        }
      ]
    },
    {
      "cell_type": "code",
      "metadata": {
        "colab": {
          "base_uri": "https://localhost:8080/"
        },
        "id": "Zs_r29JQgKk5",
        "outputId": "2790747c-3479-466d-f5f5-e02e762ae7f7"
      },
      "source": [
        "X_category['origin'].value_counts()\n",
        "# 1, 2, 3\n",
        "#? | ? | ?\n",
        "# 1 | 0 | 0 -> 1\n",
        "# 0 | 1 | 0 -> 2\n",
        "# 0 | 0 | 1 _ 3"
      ],
      "execution_count": 140,
      "outputs": [
        {
          "output_type": "execute_result",
          "data": {
            "text/plain": [
              "1    249\n",
              "3     79\n",
              "2     70\n",
              "Name: origin, dtype: int64"
            ]
          },
          "metadata": {
            "tags": []
          },
          "execution_count": 140
        }
      ]
    },
    {
      "cell_type": "code",
      "metadata": {
        "id": "i9PG7HwjhHgy"
      },
      "source": [
        "# data, prefix=None\n",
        "df_origin = pd.get_dummies(X_category['origin'], prefix='origin')"
      ],
      "execution_count": 141,
      "outputs": []
    },
    {
      "cell_type": "code",
      "metadata": {
        "id": "9VUC92BYlFBe"
      },
      "source": [
        "df_cylinders = pd.get_dummies(X_category['cylinders'], prefix='cylinders')"
      ],
      "execution_count": 142,
      "outputs": []
    },
    {
      "cell_type": "code",
      "metadata": {
        "id": "JyaG8XTZmCQ_",
        "colab": {
          "base_uri": "https://localhost:8080/"
        },
        "outputId": "4d9e08a1-bcb5-4f63-d069-6584c4fbcc51"
      },
      "source": [
        "df_origin.shape, df_cylinders.shape"
      ],
      "execution_count": 143,
      "outputs": [
        {
          "output_type": "execute_result",
          "data": {
            "text/plain": [
              "((398, 3), (398, 5))"
            ]
          },
          "metadata": {
            "tags": []
          },
          "execution_count": 143
        }
      ]
    },
    {
      "cell_type": "code",
      "metadata": {
        "colab": {
          "base_uri": "https://localhost:8080/",
          "height": 141
        },
        "id": "Rok2im7ImafW",
        "outputId": "85dd284b-bf53-4af8-c713-d9b9766a3abc"
      },
      "source": [
        "X_contiuns.head(3)"
      ],
      "execution_count": 144,
      "outputs": [
        {
          "output_type": "execute_result",
          "data": {
            "text/html": [
              "<div>\n",
              "<style scoped>\n",
              "    .dataframe tbody tr th:only-of-type {\n",
              "        vertical-align: middle;\n",
              "    }\n",
              "\n",
              "    .dataframe tbody tr th {\n",
              "        vertical-align: top;\n",
              "    }\n",
              "\n",
              "    .dataframe thead th {\n",
              "        text-align: right;\n",
              "    }\n",
              "</style>\n",
              "<table border=\"1\" class=\"dataframe\">\n",
              "  <thead>\n",
              "    <tr style=\"text-align: right;\">\n",
              "      <th></th>\n",
              "      <th>displacement</th>\n",
              "      <th>horsepower</th>\n",
              "      <th>weight</th>\n",
              "      <th>acceleration</th>\n",
              "    </tr>\n",
              "  </thead>\n",
              "  <tbody>\n",
              "    <tr>\n",
              "      <th>0</th>\n",
              "      <td>307.0</td>\n",
              "      <td>130.0</td>\n",
              "      <td>3504.0</td>\n",
              "      <td>12.0</td>\n",
              "    </tr>\n",
              "    <tr>\n",
              "      <th>1</th>\n",
              "      <td>350.0</td>\n",
              "      <td>165.0</td>\n",
              "      <td>3693.0</td>\n",
              "      <td>11.5</td>\n",
              "    </tr>\n",
              "    <tr>\n",
              "      <th>2</th>\n",
              "      <td>318.0</td>\n",
              "      <td>150.0</td>\n",
              "      <td>3436.0</td>\n",
              "      <td>11.0</td>\n",
              "    </tr>\n",
              "  </tbody>\n",
              "</table>\n",
              "</div>"
            ],
            "text/plain": [
              "   displacement  horsepower  weight  acceleration\n",
              "0         307.0       130.0  3504.0          12.0\n",
              "1         350.0       165.0  3693.0          11.5\n",
              "2         318.0       150.0  3436.0          11.0"
            ]
          },
          "metadata": {
            "tags": []
          },
          "execution_count": 144
        }
      ]
    },
    {
      "cell_type": "code",
      "metadata": {
        "id": "JBLswBFVmsJ2",
        "colab": {
          "base_uri": "https://localhost:8080/",
          "height": 224
        },
        "outputId": "4517cc68-a919-428d-bb62-3c9ecf6359b1"
      },
      "source": [
        "# X_contiuns + df_cylinders + df_origin\n",
        "# objs, axis=0\n",
        "X = pd.concat([X_contiuns, df_cylinders, df_origin], axis='columns')\n",
        "X.head(5)"
      ],
      "execution_count": 152,
      "outputs": [
        {
          "output_type": "execute_result",
          "data": {
            "text/html": [
              "<div>\n",
              "<style scoped>\n",
              "    .dataframe tbody tr th:only-of-type {\n",
              "        vertical-align: middle;\n",
              "    }\n",
              "\n",
              "    .dataframe tbody tr th {\n",
              "        vertical-align: top;\n",
              "    }\n",
              "\n",
              "    .dataframe thead th {\n",
              "        text-align: right;\n",
              "    }\n",
              "</style>\n",
              "<table border=\"1\" class=\"dataframe\">\n",
              "  <thead>\n",
              "    <tr style=\"text-align: right;\">\n",
              "      <th></th>\n",
              "      <th>displacement</th>\n",
              "      <th>horsepower</th>\n",
              "      <th>weight</th>\n",
              "      <th>acceleration</th>\n",
              "      <th>cylinders_3</th>\n",
              "      <th>cylinders_4</th>\n",
              "      <th>cylinders_5</th>\n",
              "      <th>cylinders_6</th>\n",
              "      <th>cylinders_8</th>\n",
              "      <th>origin_1</th>\n",
              "      <th>origin_2</th>\n",
              "      <th>origin_3</th>\n",
              "    </tr>\n",
              "  </thead>\n",
              "  <tbody>\n",
              "    <tr>\n",
              "      <th>0</th>\n",
              "      <td>307.0</td>\n",
              "      <td>130.0</td>\n",
              "      <td>3504.0</td>\n",
              "      <td>12.0</td>\n",
              "      <td>0</td>\n",
              "      <td>0</td>\n",
              "      <td>0</td>\n",
              "      <td>0</td>\n",
              "      <td>1</td>\n",
              "      <td>1</td>\n",
              "      <td>0</td>\n",
              "      <td>0</td>\n",
              "    </tr>\n",
              "    <tr>\n",
              "      <th>1</th>\n",
              "      <td>350.0</td>\n",
              "      <td>165.0</td>\n",
              "      <td>3693.0</td>\n",
              "      <td>11.5</td>\n",
              "      <td>0</td>\n",
              "      <td>0</td>\n",
              "      <td>0</td>\n",
              "      <td>0</td>\n",
              "      <td>1</td>\n",
              "      <td>1</td>\n",
              "      <td>0</td>\n",
              "      <td>0</td>\n",
              "    </tr>\n",
              "    <tr>\n",
              "      <th>2</th>\n",
              "      <td>318.0</td>\n",
              "      <td>150.0</td>\n",
              "      <td>3436.0</td>\n",
              "      <td>11.0</td>\n",
              "      <td>0</td>\n",
              "      <td>0</td>\n",
              "      <td>0</td>\n",
              "      <td>0</td>\n",
              "      <td>1</td>\n",
              "      <td>1</td>\n",
              "      <td>0</td>\n",
              "      <td>0</td>\n",
              "    </tr>\n",
              "    <tr>\n",
              "      <th>3</th>\n",
              "      <td>304.0</td>\n",
              "      <td>150.0</td>\n",
              "      <td>3433.0</td>\n",
              "      <td>12.0</td>\n",
              "      <td>0</td>\n",
              "      <td>0</td>\n",
              "      <td>0</td>\n",
              "      <td>0</td>\n",
              "      <td>1</td>\n",
              "      <td>1</td>\n",
              "      <td>0</td>\n",
              "      <td>0</td>\n",
              "    </tr>\n",
              "    <tr>\n",
              "      <th>4</th>\n",
              "      <td>302.0</td>\n",
              "      <td>140.0</td>\n",
              "      <td>3449.0</td>\n",
              "      <td>10.5</td>\n",
              "      <td>0</td>\n",
              "      <td>0</td>\n",
              "      <td>0</td>\n",
              "      <td>0</td>\n",
              "      <td>1</td>\n",
              "      <td>1</td>\n",
              "      <td>0</td>\n",
              "      <td>0</td>\n",
              "    </tr>\n",
              "  </tbody>\n",
              "</table>\n",
              "</div>"
            ],
            "text/plain": [
              "   displacement  horsepower  weight  ...  origin_1  origin_2  origin_3\n",
              "0         307.0       130.0  3504.0  ...         1         0         0\n",
              "1         350.0       165.0  3693.0  ...         1         0         0\n",
              "2         318.0       150.0  3436.0  ...         1         0         0\n",
              "3         304.0       150.0  3433.0  ...         1         0         0\n",
              "4         302.0       140.0  3449.0  ...         1         0         0\n",
              "\n",
              "[5 rows x 12 columns]"
            ]
          },
          "metadata": {
            "tags": []
          },
          "execution_count": 152
        }
      ]
    },
    {
      "cell_type": "code",
      "metadata": {
        "id": "ONvAr3aou805"
      },
      "source": [
        "scaler_xgb = preprocessing.StandardScaler()"
      ],
      "execution_count": 153,
      "outputs": []
    },
    {
      "cell_type": "code",
      "metadata": {
        "colab": {
          "base_uri": "https://localhost:8080/"
        },
        "id": "m9IMvD3nzxXq",
        "outputId": "9d4a6e56-bf8b-4920-cdcf-514a29bee036"
      },
      "source": [
        "scaler_xgb.fit(X)"
      ],
      "execution_count": 154,
      "outputs": [
        {
          "output_type": "execute_result",
          "data": {
            "text/plain": [
              "StandardScaler(copy=True, with_mean=True, with_std=True)"
            ]
          },
          "metadata": {
            "tags": []
          },
          "execution_count": 154
        }
      ]
    },
    {
      "cell_type": "code",
      "metadata": {
        "colab": {
          "base_uri": "https://localhost:8080/"
        },
        "id": "k4tC_cn8z67-",
        "outputId": "e405be37-ed95-49ea-9c5e-d3f35ab7a95a"
      },
      "source": [
        "scaler_xgb.transform(X)"
      ],
      "execution_count": 155,
      "outputs": [
        {
          "output_type": "execute_result",
          "data": {
            "text/plain": [
              "array([[ 1.0906037 ,  0.67513301,  0.63086987, ...,  0.77355903,\n",
              "        -0.46196822, -0.49764335],\n",
              "       [ 1.5035143 ,  1.59024469,  0.85433297, ...,  0.77355903,\n",
              "        -0.46196822, -0.49764335],\n",
              "       [ 1.19623199,  1.19805397,  0.55047045, ...,  0.77355903,\n",
              "        -0.46196822, -0.49764335],\n",
              "       ...,\n",
              "       [-0.56103873, -0.52758521, -0.79858454, ...,  0.77355903,\n",
              "        -0.46196822, -0.49764335],\n",
              "       [-0.70507731, -0.65831545, -0.40841088, ...,  0.77355903,\n",
              "        -0.46196822, -0.49764335],\n",
              "       [-0.71467988, -0.5798773 , -0.29608816, ...,  0.77355903,\n",
              "        -0.46196822, -0.49764335]])"
            ]
          },
          "metadata": {
            "tags": []
          },
          "execution_count": 155
        }
      ]
    },
    {
      "cell_type": "code",
      "metadata": {
        "id": "_-QqUUhS0Jga"
      },
      "source": [
        "X = scaler_xgb.transform(X)"
      ],
      "execution_count": 156,
      "outputs": []
    },
    {
      "cell_type": "code",
      "metadata": {
        "colab": {
          "base_uri": "https://localhost:8080/"
        },
        "id": "21kB4_Jk0MNX",
        "outputId": "105ddc8a-5948-4f64-f278-6cd8ea73222a"
      },
      "source": [
        "X"
      ],
      "execution_count": 157,
      "outputs": [
        {
          "output_type": "execute_result",
          "data": {
            "text/plain": [
              "array([[ 1.0906037 ,  0.67513301,  0.63086987, ...,  0.77355903,\n",
              "        -0.46196822, -0.49764335],\n",
              "       [ 1.5035143 ,  1.59024469,  0.85433297, ...,  0.77355903,\n",
              "        -0.46196822, -0.49764335],\n",
              "       [ 1.19623199,  1.19805397,  0.55047045, ...,  0.77355903,\n",
              "        -0.46196822, -0.49764335],\n",
              "       ...,\n",
              "       [-0.56103873, -0.52758521, -0.79858454, ...,  0.77355903,\n",
              "        -0.46196822, -0.49764335],\n",
              "       [-0.70507731, -0.65831545, -0.40841088, ...,  0.77355903,\n",
              "        -0.46196822, -0.49764335],\n",
              "       [-0.71467988, -0.5798773 , -0.29608816, ...,  0.77355903,\n",
              "        -0.46196822, -0.49764335]])"
            ]
          },
          "metadata": {
            "tags": []
          },
          "execution_count": 157
        }
      ]
    },
    {
      "cell_type": "code",
      "metadata": {
        "id": "OHt7G8I90Sdk"
      },
      "source": [
        ""
      ],
      "execution_count": 157,
      "outputs": []
    },
    {
      "cell_type": "code",
      "metadata": {
        "colab": {
          "base_uri": "https://localhost:8080/"
        },
        "id": "5robv836oGnG",
        "outputId": "61e68861-a89e-432e-a7e3-5f852ef8a9c9"
      },
      "source": [
        "from sklearn.model_selection import train_test_split\n",
        "x_train, x_test, y_train, y_test = train_test_split(X, Y) \n",
        "x_train.shape, x_test.shape, y_train.shape, y_test.shape"
      ],
      "execution_count": 158,
      "outputs": [
        {
          "output_type": "execute_result",
          "data": {
            "text/plain": [
              "((298, 12), (100, 12), (298,), (100,))"
            ]
          },
          "metadata": {
            "tags": []
          },
          "execution_count": 158
        }
      ]
    },
    {
      "cell_type": "code",
      "metadata": {
        "id": "K2zW94sxpdk9"
      },
      "source": [
        "import xgboost"
      ],
      "execution_count": 159,
      "outputs": []
    },
    {
      "cell_type": "code",
      "metadata": {
        "colab": {
          "base_uri": "https://localhost:8080/"
        },
        "id": "juD7TV_IsHI1",
        "outputId": "6861af2e-bf4a-4ef7-8271-c4c050c5149d"
      },
      "source": [
        "xgb = xgboost.XGBRegressor()\n",
        "xgb"
      ],
      "execution_count": 160,
      "outputs": [
        {
          "output_type": "execute_result",
          "data": {
            "text/plain": [
              "XGBRegressor(base_score=0.5, booster='gbtree', colsample_bylevel=1,\n",
              "             colsample_bynode=1, colsample_bytree=1, gamma=0,\n",
              "             importance_type='gain', learning_rate=0.1, max_delta_step=0,\n",
              "             max_depth=3, min_child_weight=1, missing=None, n_estimators=100,\n",
              "             n_jobs=1, nthread=None, objective='reg:linear', random_state=0,\n",
              "             reg_alpha=0, reg_lambda=1, scale_pos_weight=1, seed=None,\n",
              "             silent=None, subsample=1, verbosity=1)"
            ]
          },
          "metadata": {
            "tags": []
          },
          "execution_count": 160
        }
      ]
    },
    {
      "cell_type": "code",
      "metadata": {
        "colab": {
          "base_uri": "https://localhost:8080/"
        },
        "id": "zcb9xl15skHT",
        "outputId": "2572fa53-cc8a-4812-db19-07406bfec6f9"
      },
      "source": [
        "xgb.fit(x_train, y_train)"
      ],
      "execution_count": 161,
      "outputs": [
        {
          "output_type": "stream",
          "text": [
            "[07:56:41] WARNING: /workspace/src/objective/regression_obj.cu:152: reg:linear is now deprecated in favor of reg:squarederror.\n"
          ],
          "name": "stdout"
        },
        {
          "output_type": "execute_result",
          "data": {
            "text/plain": [
              "XGBRegressor(base_score=0.5, booster='gbtree', colsample_bylevel=1,\n",
              "             colsample_bynode=1, colsample_bytree=1, gamma=0,\n",
              "             importance_type='gain', learning_rate=0.1, max_delta_step=0,\n",
              "             max_depth=3, min_child_weight=1, missing=None, n_estimators=100,\n",
              "             n_jobs=1, nthread=None, objective='reg:linear', random_state=0,\n",
              "             reg_alpha=0, reg_lambda=1, scale_pos_weight=1, seed=None,\n",
              "             silent=None, subsample=1, verbosity=1)"
            ]
          },
          "metadata": {
            "tags": []
          },
          "execution_count": 161
        }
      ]
    },
    {
      "cell_type": "code",
      "metadata": {
        "colab": {
          "base_uri": "https://localhost:8080/"
        },
        "id": "Kgu1EF-Ds1H7",
        "outputId": "1fe5889c-e005-4869-d425-8a6365d85275"
      },
      "source": [
        "xgb.score(x_train, y_train)"
      ],
      "execution_count": 162,
      "outputs": [
        {
          "output_type": "execute_result",
          "data": {
            "text/plain": [
              "0.9306778733653743"
            ]
          },
          "metadata": {
            "tags": []
          },
          "execution_count": 162
        }
      ]
    },
    {
      "cell_type": "markdown",
      "metadata": {
        "id": "bfOKLPILtwfs"
      },
      "source": [
        ""
      ]
    },
    {
      "cell_type": "code",
      "metadata": {
        "colab": {
          "base_uri": "https://localhost:8080/"
        },
        "id": "FYaay3x9tCzz",
        "outputId": "ba21db07-c32b-4006-8842-309f57bfee2a"
      },
      "source": [
        "xgb.score(x_test, y_test)"
      ],
      "execution_count": 163,
      "outputs": [
        {
          "output_type": "execute_result",
          "data": {
            "text/plain": [
              "0.7811469829249277"
            ]
          },
          "metadata": {
            "tags": []
          },
          "execution_count": 163
        }
      ]
    },
    {
      "cell_type": "code",
      "metadata": {
        "id": "AShCkX5z0cyJ"
      },
      "source": [
        ""
      ],
      "execution_count": 164,
      "outputs": []
    },
    {
      "cell_type": "code",
      "metadata": {
        "id": "SuHDMGPt1Oc-"
      },
      "source": [
        "import pickle\n",
        "pickle.dump(scaler_xgb, open('./scaler_xgb.pkl', 'wb'))"
      ],
      "execution_count": 165,
      "outputs": []
    },
    {
      "cell_type": "code",
      "metadata": {
        "id": "QL9D8yij4GBa"
      },
      "source": [
        "pickle.dump(xgb, open('./xgb_model.pkl', 'wb'))"
      ],
      "execution_count": 166,
      "outputs": []
    },
    {
      "cell_type": "code",
      "metadata": {
        "id": "MmxGXJyq4uhH"
      },
      "source": [
        ""
      ],
      "execution_count": null,
      "outputs": []
    }
  ]
}